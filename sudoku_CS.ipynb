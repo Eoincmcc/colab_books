{
  "cells": [
    {
      "cell_type": "markdown",
      "metadata": {
        "id": "view-in-github",
        "colab_type": "text"
      },
      "source": [
        "<a href=\"https://colab.research.google.com/github/Eoincmcc/colab_books/blob/main/sudoku_CS.ipynb\" target=\"_parent\"><img src=\"https://colab.research.google.com/assets/colab-badge.svg\" alt=\"Open In Colab\"/></a>"
      ]
    },
    {
      "cell_type": "markdown",
      "id": "basename",
      "metadata": {
        "id": "basename"
      },
      "source": [
        "# Sudoku Solver"
      ]
    },
    {
      "cell_type": "code",
      "execution_count": 9,
      "id": "install",
      "metadata": {
        "id": "install"
      },
      "outputs": [],
      "source": [
        "!pip install ortools --quiet"
      ]
    },
    {
      "cell_type": "code",
      "execution_count": 10,
      "id": "code",
      "metadata": {
        "id": "code"
      },
      "outputs": [],
      "source": [
        "# Imports\n",
        "from ortools.sat.python import cp_model\n",
        "import numpy as np"
      ]
    },
    {
      "cell_type": "code",
      "source": [
        "# Assignments\n",
        "model = cp_model.CpModel()\n",
        "grid = np.matrix([[8,0,0,4,0,6,0,0,7],\n",
        "          [0,0,0,0,0,0,4,0,0],\n",
        "          [0,1,0,0,0,0,6,5,0],\n",
        "          [5,0,9,0,3,0,7,8,0],\n",
        "          [0,0,0,0,7,0,0,0,0],\n",
        "          [0,4,8,0,2,0,1,0,3],\n",
        "          [0,5,2,0,0,0,0,9,0],\n",
        "          [0,0,1,0,0,0,0,0,0],\n",
        "          [3,0,0,9,0,2,0,0,5],])"
      ],
      "metadata": {
        "id": "yJFnPp11kEjz"
      },
      "id": "yJFnPp11kEjz",
      "execution_count": 11,
      "outputs": []
    },
    {
      "cell_type": "code",
      "source": [
        "def solve_sudoku(grid):\n",
        "  \"\"\"Solve sudoku with constraint programming\"\"\"\n",
        "\n",
        "  sol = {}\n",
        "  size_int = grid.shape[0]  \n",
        "  size = list(range(0, size_int))\n",
        "  block_int = np.sqrt(size_int).astype(int)\n",
        "  block = list(range(0, block_int))\n",
        "\n",
        "  for i in size:\n",
        "    for j in size:\n",
        "      n = grid[i,j]\n",
        "      if n:\n",
        "        sol[i,j] = n \n",
        "      else:\n",
        "        sol[i,j] = model.NewIntVar(1, size_int, 'sol %i %i' % (i, j))\n",
        "\n",
        "  # Declaring that all elements of all rows and cols must be different\n",
        "  for i in size:\n",
        "      model.AddAllDifferent(sol[(i, j)] for j in size)\n",
        "\n",
        "  for j in size:\n",
        "      model.AddAllDifferent(sol[(i, j)] for i in size)\n",
        "\n",
        "  # Declaring that all elements within a block must be different\n",
        "  for i in block:\n",
        "    for j in block:\n",
        "      block_cell = []\n",
        "      for xi in block:\n",
        "        for xj in block:\n",
        "          block_cell.append(sol[(i * block_int + xi, j * block_int + xj)])\n",
        "      model.AddAllDifferent(block_cell)\n",
        "\n",
        "  solver = cp_model.CpSolver()\n",
        "  status = solver.Solve(model)\n",
        "  if status == cp_model.OPTIMAL:\n",
        "      for i in size:\n",
        "          print([int(solver.Value(sol[(i, j)])) for j in size])\n",
        "\n",
        "solve_sudoku(grid)"
      ],
      "metadata": {
        "id": "0txFfYKnkYXG",
        "outputId": "3e6a5fa3-a162-433b-e381-f3f25565c017",
        "colab": {
          "base_uri": "https://localhost:8080/"
        }
      },
      "id": "0txFfYKnkYXG",
      "execution_count": 12,
      "outputs": [
        {
          "output_type": "stream",
          "name": "stdout",
          "text": [
            "[8, 3, 5, 4, 1, 6, 9, 2, 7]\n",
            "[2, 9, 6, 8, 5, 7, 4, 3, 1]\n",
            "[4, 1, 7, 2, 9, 3, 6, 5, 8]\n",
            "[5, 6, 9, 1, 3, 4, 7, 8, 2]\n",
            "[1, 2, 3, 6, 7, 8, 5, 4, 9]\n",
            "[7, 4, 8, 5, 2, 9, 1, 6, 3]\n",
            "[6, 5, 2, 7, 8, 1, 3, 9, 4]\n",
            "[9, 8, 1, 3, 4, 5, 2, 7, 6]\n",
            "[3, 7, 4, 9, 6, 2, 8, 1, 5]\n"
          ]
        }
      ]
    }
  ],
  "metadata": {
    "colab": {
      "name": "sudoku_CS.ipynb",
      "provenance": [],
      "include_colab_link": true
    },
    "language_info": {
      "name": "python"
    },
    "kernelspec": {
      "name": "python3",
      "display_name": "Python 3"
    }
  },
  "nbformat": 4,
  "nbformat_minor": 5
}